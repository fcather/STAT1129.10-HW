{
 "cells": [
  {
   "cell_type": "code",
   "execution_count": 2,
   "id": "672b4318",
   "metadata": {},
   "outputs": [],
   "source": [
    "numbers = list(range(30, 65, 5)) #create list with numbers 0 to 60 with interval 5, using range"
   ]
  },
  {
   "cell_type": "code",
   "execution_count": 3,
   "id": "ba7796f8",
   "metadata": {},
   "outputs": [
    {
     "data": {
      "text/plain": [
       "[30, 35, 40, 45, 50, 55, 60]"
      ]
     },
     "execution_count": 3,
     "metadata": {},
     "output_type": "execute_result"
    }
   ],
   "source": [
    "numbers"
   ]
  },
  {
   "cell_type": "code",
   "execution_count": 4,
   "id": "4134539f",
   "metadata": {},
   "outputs": [],
   "source": [
    "numbers.reverse() #order list in reverse order"
   ]
  },
  {
   "cell_type": "code",
   "execution_count": 5,
   "id": "baf334e7",
   "metadata": {},
   "outputs": [
    {
     "data": {
      "text/plain": [
       "[60, 55, 50, 45, 40, 35, 30]"
      ]
     },
     "execution_count": 5,
     "metadata": {},
     "output_type": "execute_result"
    }
   ],
   "source": [
    "numbers"
   ]
  },
  {
   "cell_type": "code",
   "execution_count": 6,
   "id": "2e3f8b1c",
   "metadata": {},
   "outputs": [
    {
     "data": {
      "text/plain": [
       "[65, 60, 55, 50, 45, 40, 35, 30]"
      ]
     },
     "execution_count": 6,
     "metadata": {},
     "output_type": "execute_result"
    }
   ],
   "source": [
    "numbers.insert(0, 65) #insert 65 to beginning of new list\n",
    "numbers"
   ]
  },
  {
   "cell_type": "code",
   "execution_count": 7,
   "id": "04fb2ad9",
   "metadata": {},
   "outputs": [],
   "source": [
    "empty_list = [] #create an empty list"
   ]
  },
  {
   "cell_type": "code",
   "execution_count": 8,
   "id": "912ecc21",
   "metadata": {},
   "outputs": [
    {
     "data": {
      "text/plain": [
       "[]"
      ]
     },
     "execution_count": 8,
     "metadata": {},
     "output_type": "execute_result"
    }
   ],
   "source": [
    "empty_list"
   ]
  },
  {
   "cell_type": "code",
   "execution_count": 21,
   "id": "19b582a6",
   "metadata": {},
   "outputs": [],
   "source": [
    "empty_list.append(1) #append integers from 0 to 20 to this list\n",
    "empty_list.append(2)\n",
    "empty_list.append(3)\n",
    "empty_list.append(4)\n",
    "empty_list.append(5)\n",
    "empty_list.append(6)\n",
    "empty_list.append(7)\n",
    "empty_list.append(8)\n",
    "empty_list.append(9)\n",
    "empty_list.append(10)\n",
    "empty_list.append(11)\n",
    "empty_list.append(12)\n",
    "empty_list.append(13)\n",
    "empty_list.append(14)\n",
    "empty_list.append(15)\n",
    "empty_list.append(16)\n",
    "empty_list.append(17)\n",
    "empty_list.append(18)\n",
    "empty_list.append(19)\n",
    "empty_list.append(20)"
   ]
  },
  {
   "cell_type": "code",
   "execution_count": 22,
   "id": "6b9c1236",
   "metadata": {},
   "outputs": [
    {
     "data": {
      "text/plain": [
       "[1, 2, 3, 4, 5, 6, 7, 8, 9, 10, 11, 12, 13, 14, 15, 16, 17, 18, 19, 20]"
      ]
     },
     "execution_count": 22,
     "metadata": {},
     "output_type": "execute_result"
    }
   ],
   "source": [
    "empty_list"
   ]
  },
  {
   "cell_type": "code",
   "execution_count": 31,
   "id": "176813a8",
   "metadata": {},
   "outputs": [
    {
     "name": "stdout",
     "output_type": "stream",
     "text": [
      "20\n",
      "1\n",
      "20\n"
     ]
    }
   ],
   "source": [
    "print(len(empty_list)) #return the length, maximume and minimume values of newest list\n",
    "print(min(empty_list))\n",
    "print(max(empty_list))"
   ]
  },
  {
   "cell_type": "code",
   "execution_count": 45,
   "id": "705379a0",
   "metadata": {},
   "outputs": [
    {
     "data": {
      "text/plain": [
       "210"
      ]
     },
     "execution_count": 45,
     "metadata": {},
     "output_type": "execute_result"
    }
   ],
   "source": [
    "#sum up all the items\n",
    "sum(empty_list)"
   ]
  },
  {
   "cell_type": "code",
   "execution_count": 38,
   "id": "c56b8c09",
   "metadata": {},
   "outputs": [],
   "source": [
    "#Create a weather dictionary. Using for loop, print out all the keys and values in the same line. \n",
    "weather_dict = {\"sunny\": \"play\", \"rainy\": \"watch TV\", \"cloudy\": \"walk\"}"
   ]
  },
  {
   "cell_type": "code",
   "execution_count": 39,
   "id": "7d32ab6c",
   "metadata": {},
   "outputs": [
    {
     "data": {
      "text/plain": [
       "{'sunny': 'play', 'rainy': 'watch TV', 'cloudy': 'walk'}"
      ]
     },
     "execution_count": 39,
     "metadata": {},
     "output_type": "execute_result"
    }
   ],
   "source": [
    "weather_dict"
   ]
  },
  {
   "cell_type": "code",
   "execution_count": 41,
   "id": "f165cda1",
   "metadata": {},
   "outputs": [
    {
     "name": "stdout",
     "output_type": "stream",
     "text": [
      "When sunny let us play.\n",
      "When rainy let us watch TV.\n",
      "When cloudy let us walk.\n"
     ]
    }
   ],
   "source": [
    "for weather, activity in weather_dict.items():\n",
    "    print(f'When {weather} let us {activity}.')"
   ]
  },
  {
   "cell_type": "code",
   "execution_count": 43,
   "id": "4e66783c",
   "metadata": {},
   "outputs": [
    {
     "data": {
      "text/plain": [
       "{'sunny': 'play', 'rainy': 'watch TV', 'cloudy': 'walk', 'snowy': 'ski'}"
      ]
     },
     "execution_count": 43,
     "metadata": {},
     "output_type": "execute_result"
    }
   ],
   "source": [
    "weather_dict[\"snowy\"] = \"ski\" #add new pair (\"snowy\", \"ski\")\n",
    "weather_dict"
   ]
  }
 ],
 "metadata": {
  "kernelspec": {
   "display_name": "Python 3 (ipykernel)",
   "language": "python",
   "name": "python3"
  },
  "language_info": {
   "codemirror_mode": {
    "name": "ipython",
    "version": 3
   },
   "file_extension": ".py",
   "mimetype": "text/x-python",
   "name": "python",
   "nbconvert_exporter": "python",
   "pygments_lexer": "ipython3",
   "version": "3.9.7"
  }
 },
 "nbformat": 4,
 "nbformat_minor": 5
}
